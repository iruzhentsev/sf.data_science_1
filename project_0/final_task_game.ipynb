{
 "cells": [
  {
   "cell_type": "markdown",
   "metadata": {},
   "source": [
    "# Угадай число\n",
    "Нужно написать программу, которая угадывает число за минимальное число попыток.\n",
    "\n",
    "## Условия задания\n",
    "- Компьютер загадывает целое число от 1 до 100, и нам его нужно угадать. Под «угадать», подразумевается «написать программу, которая угадывает число».    \n",
    "- Алгоритм учитывает информацию о том, больше ли случайное число или меньше нужного нам.\n",
    "- Необходимо добиться того, чтобы программа угадывала число меньше, чем за 20 попыток. \n",
    "\n",
    "## Метрика качества\n",
    "- Результаты оцениваются по среднему количеству попыток при 1000 повторений. Необходимо добиться минимального количества попыток.\n",
    "\n",
    "## Что практикуем\n",
    "- Учимся писать хороший код на Python.\n",
    "- Учимся работать с IDE.\n",
    "- Учимся работать с GitHub.\n"
   ]
  },
  {
   "cell_type": "code",
   "execution_count": 8,
   "metadata": {},
   "outputs": [
    {
     "name": "stdout",
     "output_type": "stream",
     "text": [
      "Ваш алгоритм угадывает число в среднем за: 6 попытки\n"
     ]
    }
   ],
   "source": [
    "import numpy as np\n",
    "def random_predict(number) -> int:\n",
    "    \"\"\"Компьютер угадывает рандомное число\n",
    "    Args:\n",
    "        number (int, optional): Загаданное число.\n",
    "    Returns:\n",
    "        int: Число попыток\n",
    "    \"\"\"\n",
    "    predict_number = np.random.randint(1, 101) # загадываем рандомное число, используя генератор рандомных чисел\n",
    "    count = 0 # Переменная счетчик\n",
    "    mn = 1 # Минимальное значение рассматриваемого интервала\n",
    "    mx = 100 # Максимальное значение рассматриваемого интервала\n",
    "    while True:\n",
    "        count += 1\n",
    "        if predict_number > number:\n",
    "            mx = predict_number - 1\n",
    "            predict_number = (mx + mn) // 2\n",
    "        elif predict_number < number:\n",
    "            mn = predict_number + 1\n",
    "            predict_number = (mx + mn) // 2\n",
    "        else:\n",
    "            # print(f'Компьютер угадал загаданное число за {count} попыток. Это число {number}')\n",
    "            break # конец игры и выход из цикла\n",
    "    return(count)\n",
    "# print(f'Количество попыток: {random_predict(number)}')\n",
    "def score_game(random_predict) -> int:\n",
    "    \"\"\" За какое количество попыток в среднем за 1000 подходов угадывает наш алгоритм\n",
    "    Args:\n",
    "        random_predict ([type]): функция угадывания\n",
    "    Returns:\n",
    "        int: среднее количество попыток\n",
    "    \"\"\"\n",
    "    count_ls = []\n",
    "    np.random.seed(1)  # фиксируем сид для воспроизводимости\n",
    "    random_array = np.random.randint(1, 101, size=(1000))  # загадали список чисел\n",
    "    for number in random_array:\n",
    "        count_ls.append(random_predict(number))\n",
    "    score = int(np.mean(count_ls))\n",
    "    print(f\"Ваш алгоритм угадывает число в среднем за: {score} попытки\")\n",
    "\n",
    "score_game(random_predict)"
   ]
  }
 ],
 "metadata": {
  "interpreter": {
   "hash": "aee8b7b246df8f9039afb4144a1f6fd8d2ca17a180786b69acc140d282b71a49"
  },
  "kernelspec": {
   "display_name": "Python 3.9.13 64-bit",
   "language": "python",
   "name": "python3"
  },
  "language_info": {
   "codemirror_mode": {
    "name": "ipython",
    "version": 3
   },
   "file_extension": ".py",
   "mimetype": "text/x-python",
   "name": "python",
   "nbconvert_exporter": "python",
   "pygments_lexer": "ipython3",
   "version": "3.9.13"
  },
  "orig_nbformat": 4
 },
 "nbformat": 4,
 "nbformat_minor": 2
}
